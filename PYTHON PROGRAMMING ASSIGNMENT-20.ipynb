{
 "cells": [
  {
   "cell_type": "markdown",
   "id": "6e01c079",
   "metadata": {},
   "source": [
    "# PYTHON PROGRAMMING ASSIGNMENT-20"
   ]
  },
  {
   "cell_type": "raw",
   "id": "c7115906",
   "metadata": {},
   "source": [
    "Question1\n",
    "Create a function that takes a list of strings and integers, and filters out the list so that it\n",
    "returns a list of integers only.\n",
    "Examples\n",
    "filter_list([1, 2, 3, &quot;a&quot;, &quot;b&quot;, 4]) ➞ [1, 2, 3, 4]\n",
    "filter_list([&quot;A&quot;, 0, &quot;Edabit&quot;, 1729, &quot;Python&quot;, &quot;1729&quot;]) ➞ [0, 1729]\n",
    "filter_list([&quot;Nothing&quot;, &quot;here&quot;]) ➞ []"
   ]
  },
  {
   "cell_type": "code",
   "execution_count": 1,
   "id": "bb51c2b5",
   "metadata": {},
   "outputs": [
    {
     "name": "stdout",
     "output_type": "stream",
     "text": [
      "[1, 2, 3, 4]\n",
      "[0, 1729]\n",
      "[]\n"
     ]
    }
   ],
   "source": [
    "def filter_list(lst):\n",
    "    return [i for i in lst if isinstance(i, int)]\n",
    "print(filter_list([1, 2, 3, \"a\", \"b\", 4]))  # Output: [1, 2, 3, 4]\n",
    "print(filter_list([\"A\", 0, \"Edabit\", 1729, \"Python\", \"1729\"]))  # Output: [0, 1729]\n",
    "print(filter_list([\"Nothing\", \"here\"]))  # Output: []\n"
   ]
  },
  {
   "cell_type": "raw",
   "id": "24db8150",
   "metadata": {},
   "source": [
    "Question2\n",
    "Given a list of numbers, create a function which returns the list but with each element&#39;s\n",
    "index in the list added to itself. This means you add 0 to the number at index 0, add 1 to the\n",
    "number at index 1, etc...\n",
    "Examples\n",
    "add_indexes([0, 0, 0, 0, 0]) ➞ [0, 1, 2, 3, 4]\n",
    "add_indexes([1, 2, 3, 4, 5]) ➞ [1, 3, 5, 7, 9]\n",
    "add_indexes([5, 4, 3, 2, 1]) ➞ [5, 5, 5, 5, 5]"
   ]
  },
  {
   "cell_type": "code",
   "execution_count": 3,
   "id": "ea02d548",
   "metadata": {},
   "outputs": [],
   "source": [
    "def add_indexes(lst):\n",
    "    return [i+lst[i] for i in range(len(lst))]\n",
    "assert add_indexes([0, 0, 0, 0, 0]) == [0, 1, 2, 3, 4]\n",
    "assert add_indexes([1, 2, 3, 4, 5]) == [1, 3, 5, 7, 9]\n",
    "assert add_indexes([5, 4, 3, 2, 1]) == [5, 5, 5, 5, 5]\n"
   ]
  },
  {
   "cell_type": "raw",
   "id": "d5b5a806",
   "metadata": {},
   "source": [
    "Create a function that takes the height and radius of a cone as arguments and returns the\n",
    "volume of the cone rounded to the nearest hundredth. See the resources tab for the formula.\n",
    "\n",
    "Examples\n",
    "cone_volume(3, 2) ➞ 12.57\n",
    "\n",
    "cone_volume(15, 6) ➞ 565.49\n",
    "cone_volume(18, 0) ➞ 0"
   ]
  },
  {
   "cell_type": "code",
   "execution_count": 4,
   "id": "a255e89d",
   "metadata": {},
   "outputs": [],
   "source": [
    "import math\n",
    "\n",
    "def cone_volume(height, radius):\n",
    "    volume = (1/3) * math.pi * radius ** 2 * height\n",
    "    return round(volume, 2)\n"
   ]
  },
  {
   "cell_type": "code",
   "execution_count": 5,
   "id": "e68e5ebc",
   "metadata": {},
   "outputs": [
    {
     "data": {
      "text/plain": [
       "20.94"
      ]
     },
     "execution_count": 5,
     "metadata": {},
     "output_type": "execute_result"
    }
   ],
   "source": [
    "cone_volume(5, 2)\n",
    "# Output: 20.94\n"
   ]
  },
  {
   "cell_type": "raw",
   "id": "5e423477",
   "metadata": {},
   "source": [
    "Question4\n",
    "This Triangular Number Sequence is generated from a pattern of dots that form a triangle.\n",
    "The first 5 numbers of the sequence, or dots, are:\n",
    "1, 3, 6, 10, 15\n",
    "This means that the first triangle has just one dot, the second one has three dots, the third one\n",
    "has 6 dots and so on.\n",
    "Write a function that gives the number of dots with its corresponding triangle number of the\n",
    "sequence.\n",
    "Examples\n",
    "triangle(1) ➞ 1\n",
    "triangle(6) ➞ 21\n",
    "triangle(215) ➞ 23220"
   ]
  },
  {
   "cell_type": "code",
   "execution_count": 6,
   "id": "e24eff00",
   "metadata": {},
   "outputs": [
    {
     "name": "stdout",
     "output_type": "stream",
     "text": [
      "1\n",
      "6\n",
      "215\n"
     ]
    }
   ],
   "source": [
    "import math\n",
    "\n",
    "def triangle(num):\n",
    "    n = (-1 + math.sqrt(1 + 8*num)) / 2\n",
    "    dots = (n * (n + 1)) / 2\n",
    "    return int(dots)\n",
    "print(triangle(1))    # Output: 1\n",
    "print(triangle(6))    # Output: 21\n",
    "print(triangle(215))  # Output: 23220\n"
   ]
  },
  {
   "cell_type": "raw",
   "id": "5ea4d6a8",
   "metadata": {},
   "source": [
    "Question5\n",
    "Create a function that takes a list of numbers between 1 and 10 (excluding one number) and\n",
    "returns the missing number.\n",
    "Examples\n",
    "missing_num([1, 2, 3, 4, 6, 7, 8, 9, 10]) ➞ 5\n",
    "missing_num([7, 2, 3, 6, 5, 9, 1, 4, 8]) ➞ 10\n",
    "missing_num([10, 5, 1, 2, 4, 6, 8, 3, 9]) ➞ 7"
   ]
  },
  {
   "cell_type": "code",
   "execution_count": 7,
   "id": "a0d61700",
   "metadata": {},
   "outputs": [],
   "source": [
    "def missing_num(lst):\n",
    "    n = len(lst) + 1  # Total number of elements in the list, including the missing one\n",
    "    total_sum = sum(range(1, n+1))  # Sum of all numbers between 1 and n, inclusive\n",
    "    list_sum = sum(lst)  # Sum of the given list of numbers\n",
    "    return total_sum - list_sum\n"
   ]
  },
  {
   "cell_type": "code",
   "execution_count": 8,
   "id": "2b466981",
   "metadata": {},
   "outputs": [
    {
     "name": "stdout",
     "output_type": "stream",
     "text": [
      "5\n",
      "10\n",
      "7\n"
     ]
    }
   ],
   "source": [
    "print(missing_num([1, 2, 3, 4, 6, 7, 8, 9, 10]))  # Output: 5\n",
    "print(missing_num([7, 2, 3, 6, 5, 9, 1, 4, 8]))  # Output: 10\n",
    "print(missing_num([10, 5, 1, 2, 4, 6, 8, 3, 9]))  # Output: 7\n"
   ]
  },
  {
   "cell_type": "code",
   "execution_count": null,
   "id": "cf3243b6",
   "metadata": {},
   "outputs": [],
   "source": []
  }
 ],
 "metadata": {
  "kernelspec": {
   "display_name": "Python 3 (ipykernel)",
   "language": "python",
   "name": "python3"
  },
  "language_info": {
   "codemirror_mode": {
    "name": "ipython",
    "version": 3
   },
   "file_extension": ".py",
   "mimetype": "text/x-python",
   "name": "python",
   "nbconvert_exporter": "python",
   "pygments_lexer": "ipython3",
   "version": "3.11.1"
  }
 },
 "nbformat": 4,
 "nbformat_minor": 5
}
