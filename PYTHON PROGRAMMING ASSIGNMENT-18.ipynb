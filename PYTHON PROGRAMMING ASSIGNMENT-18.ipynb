{
 "cells": [
  {
   "cell_type": "markdown",
   "id": "0358f2cf",
   "metadata": {},
   "source": [
    "\n",
    "# PYTHON PROGRAMMING ASSIGNMENT-18"
   ]
  },
  {
   "cell_type": "raw",
   "id": "efbcb48c",
   "metadata": {},
   "source": [
    "Question 1\n",
    "Create a function that takes a list of non-negative integers and strings and return a new list\n",
    "without the strings.\n",
    "Examples\n",
    "filter_list([1, 2, &quot;a&quot;, &quot;b&quot;]) ➞ [1, 2]\n",
    "filter_list([1, &quot;a&quot;, &quot;b&quot;, 0, 15]) ➞ [1, 0, 15]\n",
    "filter_list([1, 2, &quot;aasf&quot;, &quot;1&quot;, &quot;123&quot;, 123]) ➞ [1, 2, 123]"
   ]
  },
  {
   "cell_type": "code",
   "execution_count": 1,
   "id": "30eeca95",
   "metadata": {},
   "outputs": [],
   "source": [
    "def filter_list(lst):\n",
    "    # Initialize an empty list to hold the filtered integers\n",
    "    filtered_list = []\n",
    "    \n",
    "    # Loop through the elements in the list\n",
    "    for element in lst:\n",
    "        # Check if the element is an integer\n",
    "        if type(element) == int:\n",
    "            # If it is, add it to the filtered list\n",
    "            filtered_list.append(element)\n",
    "    \n",
    "    # Return the filtered list\n",
    "    return filtered_list\n"
   ]
  },
  {
   "cell_type": "code",
   "execution_count": 2,
   "id": "7bf02d25",
   "metadata": {},
   "outputs": [
    {
     "name": "stdout",
     "output_type": "stream",
     "text": [
      "[1, 2]\n",
      "[1, 0, 15]\n",
      "[1, 2, 123]\n"
     ]
    }
   ],
   "source": [
    "print(filter_list([1, 2, \"a\", \"b\"])) # Output: [1, 2]\n",
    "print(filter_list([1, \"a\", \"b\", 0, 15])) # Output: [1, 0, 15]\n",
    "print(filter_list([1, 2, \"aasf\", \"1\", \"123\", 123])) # Output: [1, 2, 123]\n"
   ]
  },
  {
   "cell_type": "raw",
   "id": "e2f1d689",
   "metadata": {},
   "source": [
    "Question 2\n",
    "The &quot;Reverser&quot; takes a string as input and returns that string in reverse order, with the\n",
    "opposite case.\n",
    "Examples\n",
    "reverse(&quot;Hello World&quot;) ➞ &quot;DLROw OLLEh&quot;\n",
    "reverse(&quot;ReVeRsE&quot;) ➞ &quot;eSrEvEr&quot;\n",
    "reverse(&quot;Radar&quot;) ➞ &quot;RADAr&quot;"
   ]
  },
  {
   "cell_type": "code",
   "execution_count": 3,
   "id": "431452e5",
   "metadata": {},
   "outputs": [],
   "source": [
    "def reverse(string):\n",
    "    # Initialize an empty string to hold the reversed and opposite-cased characters\n",
    "    reversed_string = \"\"\n",
    "    \n",
    "    # Loop through the characters in the string in reverse order\n",
    "    for char in string[::-1]:\n",
    "        # Check if the character is uppercase\n",
    "        if char.isupper():\n",
    "            # If it is, convert it to lowercase and add it to the reversed string\n",
    "            reversed_string += char.lower()\n",
    "        # Check if the character is lowercase\n",
    "        elif char.islower():\n",
    "            # If it is, convert it to uppercase and add it to the reversed string\n",
    "            reversed_string += char.upper()\n",
    "        else:\n",
    "            # If it's not a letter, add it to the reversed string as is\n",
    "            reversed_string += char\n",
    "    \n",
    "    # Return the reversed and opposite-cased string\n",
    "    return reversed_string\n"
   ]
  },
  {
   "cell_type": "code",
   "execution_count": 4,
   "id": "bc232066",
   "metadata": {},
   "outputs": [
    {
     "name": "stdout",
     "output_type": "stream",
     "text": [
      "DLROw OLLEh\n",
      "eSrEvEr\n",
      "RADAr\n"
     ]
    }
   ],
   "source": [
    "print(reverse(\"Hello World\")) # Output: \"DLROw OLLEh\"\n",
    "print(reverse(\"ReVeRsE\")) # Output: \"eSrEvEr\"\n",
    "print(reverse(\"Radar\")) # Output: \"RADAr\"\n"
   ]
  },
  {
   "cell_type": "markdown",
   "id": "e7b69ef2",
   "metadata": {},
   "source": [
    "Question 3\n",
    "You can assign variables from lists like this:\n",
    "lst = [1, 2, 3, 4, 5, 6]\n",
    "first = lst[0]\n",
    "middle = lst[1:-1]\n",
    "last = lst[-1]\n",
    "print(first) ➞ outputs 1\n",
    "print(middle) ➞ outputs [2, 3, 4, 5]\n",
    "print(last) ➞ outputs 6\n",
    "With Python 3, you can assign variables from lists in a much more succinct way. Create\n",
    "variables first, middle and last from the given list using destructuring assignment\n",
    "(check the Resources tab for some examples), where:\n",
    "first ➞ 1\n",
    "middle ➞ [2, 3, 4, 5]\n",
    "last ➞ 6\n",
    "\n",
    "Your task is to unpack the list writeyourcodehere into three variables, being first,\n",
    "middle, and last, with middle being everything in between the first and last element. Then\n",
    "print all three variables."
   ]
  },
  {
   "cell_type": "code",
   "execution_count": 5,
   "id": "76eb385f",
   "metadata": {},
   "outputs": [
    {
     "name": "stdout",
     "output_type": "stream",
     "text": [
      "10\n",
      "[20, 30, 40]\n",
      "50\n"
     ]
    }
   ],
   "source": [
    "writeyourcodehere = [10, 20, 30, 40, 50]\n",
    "first, *middle, last = writeyourcodehere\n",
    "print(first)\n",
    "print(middle)\n",
    "print(last)\n"
   ]
  },
  {
   "cell_type": "raw",
   "id": "4d738522",
   "metadata": {},
   "source": [
    "Question 4\n",
    "Write a function that calculates the factorial of a number recursively.\n",
    "Examples\n",
    "factorial(5) ➞ 120\n",
    "factorial(3) ➞ 6\n",
    "factorial(1) ➞ 1\n",
    "factorial(0) ➞ 1"
   ]
  },
  {
   "cell_type": "code",
   "execution_count": 7,
   "id": "86eda398",
   "metadata": {},
   "outputs": [],
   "source": [
    "def factorial(n):\n",
    "    if n == 0:\n",
    "        return 1\n",
    "    else:\n",
    "        return n * factorial(n-1)\n"
   ]
  },
  {
   "cell_type": "code",
   "execution_count": 8,
   "id": "bc2b9c3d",
   "metadata": {},
   "outputs": [
    {
     "name": "stdout",
     "output_type": "stream",
     "text": [
      "120\n",
      "6\n",
      "1\n",
      "1\n"
     ]
    }
   ],
   "source": [
    "print(factorial(5)) #Output: 120\n",
    "print(factorial(3)) # Output: 6\n",
    "print(factorial(1)) # Output: 1\n",
    "print(factorial(0)) # Output: 1\n"
   ]
  },
  {
   "cell_type": "raw",
   "id": "a6396316",
   "metadata": {},
   "source": [
    "Question 5\n",
    "Write a function that moves all elements of one type to the end of the list.\n",
    "Examples\n",
    "move_to_end([1, 3, 2, 4, 4, 1], 1) ➞ [3, 2, 4, 4, 1, 1]\n",
    "# Move all the 1s to the end of the array.\n",
    "move_to_end([7, 8, 9, 1, 2, 3, 4], 9) ➞ [7, 8, 1, 2, 3, 4, 9]\n",
    "move_to_end([&quot;a&quot;, &quot;a&quot;, &quot;a&quot;, &quot;b&quot;], &quot;a&quot;) ➞ [&quot;b&quot;, &quot;a&quot;, &quot;a&quot;, &quot;a&quot;]"
   ]
  },
  {
   "cell_type": "code",
   "execution_count": 9,
   "id": "5263f8b8",
   "metadata": {},
   "outputs": [],
   "source": [
    "def move_to_end(lst, el):\n",
    "    for i in lst:\n",
    "        if i == el:\n",
    "            lst.remove(i)\n",
    "            lst.append(i)\n",
    "    return lst\n"
   ]
  },
  {
   "cell_type": "code",
   "execution_count": 10,
   "id": "700121fa",
   "metadata": {},
   "outputs": [
    {
     "name": "stdout",
     "output_type": "stream",
     "text": [
      "[3, 2, 4, 4, 1, 1]\n",
      "[7, 8, 1, 2, 3, 4, 9]\n",
      "['b', 'a', 'a', 'a']\n"
     ]
    }
   ],
   "source": [
    "print(move_to_end([1, 3, 2, 4, 4, 1], 1))   # [3, 2, 4, 4, 1, 1]\n",
    "print(move_to_end([7, 8, 9, 1, 2, 3, 4], 9))   # [7, 8, 1, 2, 3, 4, 9]\n",
    "print(move_to_end(['a', 'a', 'a', 'b'], 'a'))   # ['b', 'a', 'a', 'a']\n"
   ]
  },
  {
   "cell_type": "code",
   "execution_count": null,
   "id": "5705cb7a",
   "metadata": {},
   "outputs": [],
   "source": []
  }
 ],
 "metadata": {
  "kernelspec": {
   "display_name": "Python 3 (ipykernel)",
   "language": "python",
   "name": "python3"
  },
  "language_info": {
   "codemirror_mode": {
    "name": "ipython",
    "version": 3
   },
   "file_extension": ".py",
   "mimetype": "text/x-python",
   "name": "python",
   "nbconvert_exporter": "python",
   "pygments_lexer": "ipython3",
   "version": "3.11.1"
  }
 },
 "nbformat": 4,
 "nbformat_minor": 5
}
