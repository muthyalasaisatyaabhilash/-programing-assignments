{
 "cells": [
  {
   "cell_type": "markdown",
   "id": "9be46c2b",
   "metadata": {},
   "source": [
    "# PYTHON PROGRAMMING ASSIGNMENT-17"
   ]
  },
  {
   "cell_type": "raw",
   "id": "0d1e44f5",
   "metadata": {},
   "source": [
    "Question1. Create a function that takes three arguments a, b, c and returns the sum of the\n",
    "numbers that are evenly divided by c from the range a, b inclusive.\n",
    "Examples\n",
    "evenly_divisible(1, 10, 20) ➞ 0\n",
    "# No number between 1 and 10 can be evenly divided by 20.\n",
    "evenly_divisible(1, 10, 2) ➞ 30\n",
    "# 2 + 4 + 6 + 8 + 10 = 30\n",
    "evenly_divisible(1, 10, 3) ➞ 18\n",
    "# 3 + 6 + 9 = 18"
   ]
  },
  {
   "cell_type": "code",
   "execution_count": 2,
   "id": "223f5c3c",
   "metadata": {},
   "outputs": [],
   "source": [
    "def evenly_divisible(a, b, c):\n",
    "    # Initialize the sum to 0\n",
    "    total_sum = 0\n",
    "    \n",
    "    # Loop through the range a to b, inclusive\n",
    "    for num in range(a, b+1):\n",
    "        # If the number is evenly divisible by c, add it to the sum\n",
    "        if num % c == 0:\n",
    "            total_sum += num\n",
    "    \n",
    "    # Return the total sum\n",
    "    return total_sum\n"
   ]
  },
  {
   "cell_type": "code",
   "execution_count": 3,
   "id": "2ccb9d88",
   "metadata": {},
   "outputs": [
    {
     "name": "stdout",
     "output_type": "stream",
     "text": [
      "0\n",
      "30\n",
      "18\n"
     ]
    }
   ],
   "source": [
    "print(evenly_divisible(1, 10, 20)) # Output: 0\n",
    "print(evenly_divisible(1, 10, 2)) # Output: 30\n",
    "print(evenly_divisible(1, 10, 3)) # Output: 18\n"
   ]
  },
  {
   "cell_type": "markdown",
   "id": "2526b9f1",
   "metadata": {},
   "source": [
    "Question2. Create a function that returns True if a given inequality expression is correct and\n",
    "False otherwise.\n",
    "Examples\n",
    "correct_signs(&quot;3 &lt; 7 &lt; 11&quot;) ➞ True\n",
    "correct_signs(&quot;13 &gt; 44 &gt; 33 &gt; 1&quot;) ➞ False\n",
    "correct_signs(&quot;1 &lt; 2 &lt; 6 &lt; 9 &gt; 3&quot;) ➞ True"
   ]
  },
  {
   "cell_type": "code",
   "execution_count": 4,
   "id": "046cb5dd",
   "metadata": {},
   "outputs": [],
   "source": [
    "def correct_signs(expr):\n",
    "    # Split the expression into a list of individual elements\n",
    "    elements = expr.split()\n",
    "    \n",
    "    # Loop through the elements two at a time\n",
    "    for i in range(0, len(elements)-2, 2):\n",
    "        # Check the inequality between the current and next elements\n",
    "        if elements[i+1] == '<' and not int(elements[i]) < int(elements[i+2]):\n",
    "            return False\n",
    "        elif elements[i+1] == '>' and not int(elements[i]) > int(elements[i+2]):\n",
    "            return False\n",
    "    \n",
    "    # If we made it through the loop without finding any False conditions, the expression is correct\n",
    "    return True\n"
   ]
  },
  {
   "cell_type": "code",
   "execution_count": 5,
   "id": "16d734ef",
   "metadata": {},
   "outputs": [
    {
     "name": "stdout",
     "output_type": "stream",
     "text": [
      "True\n",
      "False\n",
      "True\n"
     ]
    }
   ],
   "source": [
    "print(correct_signs(\"3 < 7 < 11\")) # Output: True\n",
    "print(correct_signs(\"13 > 44 > 33 > 1\")) # Output: False\n",
    "print(correct_signs(\"1 < 2 < 6 < 9 > 3\")) # Output: True\n"
   ]
  },
  {
   "cell_type": "raw",
   "id": "57fe3cf6",
   "metadata": {},
   "source": [
    "Question3. Create a function that replaces all the vowels in a string with a specified character.\n",
    "Examples\n",
    "replace_vowels(&quot;the aardvark&quot;, &quot;#&quot;) ➞ &quot;th# ##rdv#rk&quot;\n",
    "replace_vowels(&quot;minnie mouse&quot;, &quot;?&quot;) ➞ &quot;m?nn?? m??s?&quot;\n",
    "replace_vowels(&quot;shakespeare&quot;, &quot;*&quot;) ➞ &quot;sh*k*sp**r*&quot;"
   ]
  },
  {
   "cell_type": "code",
   "execution_count": 6,
   "id": "13e17954",
   "metadata": {},
   "outputs": [],
   "source": [
    "def replace_vowels(string, replacement_char):\n",
    "    # Define a string containing all vowels\n",
    "    vowels = 'aeiouAEIOU'\n",
    "    \n",
    "    # Initialize a new string to hold the modified string\n",
    "    new_string = ''\n",
    "    \n",
    "    # Loop through the characters in the input string\n",
    "    for char in string:\n",
    "        # If the character is a vowel, add the replacement character to the new string\n",
    "        if char in vowels:\n",
    "            new_string += replacement_char\n",
    "        # Otherwise, add the original character to the new string\n",
    "        else:\n",
    "            new_string += char\n",
    "    \n",
    "    # Return the modified string\n",
    "    return new_string\n"
   ]
  },
  {
   "cell_type": "code",
   "execution_count": 7,
   "id": "0bdad02d",
   "metadata": {},
   "outputs": [
    {
     "name": "stdout",
     "output_type": "stream",
     "text": [
      "th# ##rdv#rk\n",
      "m?nn?? m??s?\n",
      "sh*k*sp**r*\n"
     ]
    }
   ],
   "source": [
    "print(replace_vowels(\"the aardvark\", \"#\")) # Output: \"th# ##rdv#rk\"\n",
    "print(replace_vowels(\"minnie mouse\", \"?\")) # Output: \"m?nn?? m??s?\"\n",
    "print(replace_vowels(\"shakespeare\", \"*\")) # Output: \"sh*k*sp**r*\"\n"
   ]
  },
  {
   "cell_type": "raw",
   "id": "83a99aaa",
   "metadata": {},
   "source": [
    "Question4. Write a function that calculates the factorial of a number recursively.\n",
    "Examples\n",
    "factorial(5) ➞ 120\n",
    "factorial(3) ➞ 6\n",
    "factorial(1) ➞ 1\n",
    "factorial(0) ➞ 1"
   ]
  },
  {
   "cell_type": "code",
   "execution_count": 8,
   "id": "e570e484",
   "metadata": {},
   "outputs": [],
   "source": [
    "def factorial(n):\n",
    "    # Base case: factorial of 0 or 1 is 1\n",
    "    if n == 0 or n == 1:\n",
    "        return 1\n",
    "    # Recursive case: multiply n by the factorial of n-1\n",
    "    else:\n",
    "        return n * factorial(n-1)\n"
   ]
  },
  {
   "cell_type": "code",
   "execution_count": 9,
   "id": "9463d33e",
   "metadata": {},
   "outputs": [
    {
     "name": "stdout",
     "output_type": "stream",
     "text": [
      "120\n",
      "6\n",
      "1\n",
      "1\n"
     ]
    }
   ],
   "source": [
    "print(factorial(5)) # Output: 120\n",
    "print(factorial(3)) # Output: 6\n",
    "print(factorial(1)) # Output: 1\n",
    "print(factorial(0)) # Output: 1\n"
   ]
  },
  {
   "cell_type": "markdown",
   "id": "fd38b8df",
   "metadata": {},
   "source": [
    "Question 5\n",
    "Hamming distance is the number of characters that differ between two strings.\n",
    "To illustrate:\n",
    "String1: &quot;abcbba&quot;\n",
    "String2: &quot;abcbda&quot;\n",
    "Hamming Distance: 1 - &quot;b&quot; vs. &quot;d&quot; is the only difference.\n",
    "Create a function that computes the hamming distance between two strings.\n",
    "Examples\n",
    "hamming_distance(&quot;abcde&quot;, &quot;bcdef&quot;) ➞ 5\n",
    "hamming_distance(&quot;abcde&quot;, &quot;abcde&quot;) ➞ 0\n",
    "hamming_distance(&quot;strong&quot;, &quot;strung&quot;) ➞ 1"
   ]
  },
  {
   "cell_type": "code",
   "execution_count": 10,
   "id": "8f62e528",
   "metadata": {},
   "outputs": [],
   "source": [
    "def hamming_distance(str1, str2):\n",
    "    # Initialize a count variable to hold the number of differing characters\n",
    "    count = 0\n",
    "    \n",
    "    # Loop through the characters in the strings and compare them\n",
    "    for i in range(len(str1)):\n",
    "        if str1[i] != str2[i]:\n",
    "            count += 1\n",
    "    \n",
    "    # Return the count\n",
    "    return count\n"
   ]
  },
  {
   "cell_type": "code",
   "execution_count": 11,
   "id": "f3ab98fd",
   "metadata": {},
   "outputs": [
    {
     "name": "stdout",
     "output_type": "stream",
     "text": [
      "5\n",
      "0\n",
      "1\n"
     ]
    }
   ],
   "source": [
    "print(hamming_distance(\"abcde\", \"bcdef\")) # Output: 5\n",
    "print(hamming_distance(\"abcde\", \"abcde\")) # Output: 0\n",
    "print(hamming_distance(\"strong\", \"strung\")) # Output: 1\n"
   ]
  },
  {
   "cell_type": "code",
   "execution_count": null,
   "id": "fe99d991",
   "metadata": {},
   "outputs": [],
   "source": []
  }
 ],
 "metadata": {
  "kernelspec": {
   "display_name": "Python 3 (ipykernel)",
   "language": "python",
   "name": "python3"
  },
  "language_info": {
   "codemirror_mode": {
    "name": "ipython",
    "version": 3
   },
   "file_extension": ".py",
   "mimetype": "text/x-python",
   "name": "python",
   "nbconvert_exporter": "python",
   "pygments_lexer": "ipython3",
   "version": "3.11.1"
  }
 },
 "nbformat": 4,
 "nbformat_minor": 5
}
