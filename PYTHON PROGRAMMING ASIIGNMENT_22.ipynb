{
 "cells": [
  {
   "cell_type": "markdown",
   "id": "2da29cf7",
   "metadata": {},
   "source": [
    "# PYTHON PROGRAMMING ASIIGNMENT_22"
   ]
  },
  {
   "cell_type": "raw",
   "id": "4aee3d0f",
   "metadata": {},
   "source": [
    "Question1\n",
    "Create a function that takes three parameters where:\n",
    " x is the start of the range (inclusive).\n",
    " y is the end of the range (inclusive).\n",
    " n is the divisor to be checked against.\n",
    "Return an ordered list with numbers in the range that are divisible by the third parameter n.\n",
    "Return an empty list if there are no numbers that are divisible by n.\n",
    "Examples\n",
    "list_operation(1, 10, 3) ➞ [3, 6, 9]\n",
    "list_operation(7, 9, 2) ➞ [8]\n",
    "list_operation(15, 20, 7) ➞ []"
   ]
  },
  {
   "cell_type": "code",
   "execution_count": 2,
   "id": "0789db95",
   "metadata": {},
   "outputs": [
    {
     "name": "stdout",
     "output_type": "stream",
     "text": [
      "[3, 6, 9]\n",
      "[8]\n",
      "[]\n"
     ]
    }
   ],
   "source": [
    "def list_operation(x, y, n):\n",
    "    return [i for i in range(x, y+1) if i % n == 0]\n",
    "print(list_operation(1, 10, 3)) # [3, 6, 9]\n",
    "print(list_operation(7, 9, 2)) # [8]\n",
    "print(list_operation(15, 20, 7)) # []\n"
   ]
  },
  {
   "cell_type": "raw",
   "id": "e3b583d8",
   "metadata": {},
   "source": [
    "Create a function that takes in two lists and returns True if the second list follows the first list\n",
    "by one element, and False otherwise. In other words, determine if the second list is the first\n",
    "list shifted to the right by 1.\n",
    "Examples\n",
    "simon_says([1, 2], [5, 1]) ➞ True\n",
    "simon_says([1, 2], [5, 5]) ➞ False\n",
    "simon_says([1, 2, 3, 4, 5], [0, 1, 2, 3, 4]) ➞ True\n",
    "simon_says([1, 2, 3, 4, 5], [5, 5, 1, 2, 3]) ➞ False\n",
    "Notes\n",
    " Both input lists will be of the same length, and will have a minimum length of 2.\n",
    " The values of the 0-indexed element in the second list and the n-1th indexed element\n",
    "in the first list do not matter."
   ]
  },
  {
   "cell_type": "code",
   "execution_count": null,
   "id": "12c29f91",
   "metadata": {},
   "outputs": [],
   "source": [
    "def simon_says(lst1, lst2):\n",
    "if len(lst1) != len(lst2): # if both lists do not have the same length\n",
    "return False\n",
    "else:\n",
    "return lst1[:-1] == lst2[1:] # check if lst2 is lst1 shifted to the right by 1 element\n",
    "\n",
    "print(simon_says([1, 2], [5, 1])) # True\n",
    "print(simon_says([1, 2], [5, 5])) # False\n",
    "print(simon_says([1, 2, 3, 4, 5], [0, 1, 2, 3, 4])) # True\n",
    "print(simon_says([1, 2, 3, 4, 5], [5, 5, 1, 2, 3])) # False"
   ]
  },
  {
   "cell_type": "raw",
   "id": "5f80e3a0",
   "metadata": {},
   "source": [
    "Question3\n",
    "A group of friends have decided to start a secret society. The name will be the first letter of\n",
    "each of their names, sorted in alphabetical order.\n",
    "Create a function that takes in a list of names and returns the name of the secret society.\n",
    "\n",
    "Examples\n",
    "society_name([&quot;Adam&quot;, &quot;Sarah&quot;, &quot;Malcolm&quot;]) ➞ &quot;AMS&quot;\n",
    "society_name([&quot;Harry&quot;, &quot;Newt&quot;, &quot;Luna&quot;, &quot;Cho&quot;]) ➞ &quot;CHLN&quot;\n",
    "society_name([&quot;Phoebe&quot;, &quot;Chandler&quot;, &quot;Rachel&quot;, &quot;Ross&quot;, &quot;Monica&quot;, &quot;Joey&quot;])"
   ]
  },
  {
   "cell_type": "code",
   "execution_count": 5,
   "id": "6e32bc99",
   "metadata": {},
   "outputs": [
    {
     "name": "stdout",
     "output_type": "stream",
     "text": [
      "AMS\n",
      "CHLN\n",
      "CJMPRR\n"
     ]
    }
   ],
   "source": [
    "def society_name(names):\n",
    "    secret_name = \"\"\n",
    "    for name in names:\n",
    "        secret_name += name[0].upper()\n",
    "    return \"\".join(sorted(secret_name))\n",
    "\n",
    "# example usage\n",
    "print(society_name([\"Adam\", \"Sarah\", \"Malcolm\"])) # AMS\n",
    "print(society_name([\"Harry\", \"Newt\", \"Luna\", \"Cho\"])) # CHLN\n",
    "print(society_name([\"Phoebe\", \"Chandler\", \"Rachel\", \"Ross\", \"Monica\", \"Joey\"])) # CJMPRR\n"
   ]
  },
  {
   "cell_type": "raw",
   "id": "cb35fd0d",
   "metadata": {},
   "source": [
    "Question4\n",
    "An isogram is a word that has no duplicate letters. Create a function that takes a string and\n",
    "returns either True or False depending on whether or not it&#39;s an &quot;isogram&quot;.\n",
    "Examples\n",
    "is_isogram(&quot;Algorism&quot;) ➞ True\n",
    "is_isogram(&quot;PasSword&quot;) ➞ False\n",
    "# Not case sensitive.\n",
    "is_isogram(&quot;Consecutive&quot;) ➞ False"
   ]
  },
  {
   "cell_type": "code",
   "execution_count": 6,
   "id": "3b78c0d6",
   "metadata": {},
   "outputs": [
    {
     "name": "stdout",
     "output_type": "stream",
     "text": [
      "True\n",
      "False\n",
      "False\n"
     ]
    }
   ],
   "source": [
    "def is_isogram(string):\n",
    "    string = string.lower() # convert to lowercase\n",
    "    freq_dict = {}\n",
    "    for char in string:\n",
    "        if char in freq_dict:\n",
    "            freq_dict[char] += 1\n",
    "        else:\n",
    "            freq_dict[char] = 1\n",
    "        if freq_dict[char] > 1:\n",
    "            return False\n",
    "    return True\n",
    "\n",
    "# example usage\n",
    "print(is_isogram(\"Algorism\")) # True\n",
    "print(is_isogram(\"PasSword\")) # False\n",
    "print(is_isogram(\"Consecutive\")) # False\n"
   ]
  },
  {
   "cell_type": "raw",
   "id": "5dbd0191",
   "metadata": {},
   "source": [
    "Question5\n",
    "Create a function that takes a string and returns True or False, depending on whether the\n",
    "characters are in order or not.\n",
    "Examples\n",
    "is_in_order(&quot;abc&quot;) ➞ True\n",
    "is_in_order(&quot;edabit&quot;) ➞ False\n",
    "is_in_order(&quot;123&quot;) ➞ True\n",
    "is_in_order(&quot;xyzz&quot;) ➞ True"
   ]
  },
  {
   "cell_type": "code",
   "execution_count": 7,
   "id": "3afe6197",
   "metadata": {},
   "outputs": [
    {
     "name": "stdout",
     "output_type": "stream",
     "text": [
      "True\n",
      "False\n",
      "True\n",
      "True\n"
     ]
    }
   ],
   "source": [
    "def is_in_order(string):\n",
    "    for i in range(len(string) - 1):\n",
    "        if ord(string[i]) > ord(string[i+1]):\n",
    "            return False\n",
    "    return True\n",
    "\n",
    "# example usage\n",
    "print(is_in_order(\"abc\")) # True\n",
    "print(is_in_order(\"edabit\")) # False\n",
    "print(is_in_order(\"123\")) # True\n",
    "print(is_in_order(\"xyzz\")) # True\n"
   ]
  },
  {
   "cell_type": "code",
   "execution_count": null,
   "id": "932cb5d3",
   "metadata": {},
   "outputs": [],
   "source": []
  }
 ],
 "metadata": {
  "kernelspec": {
   "display_name": "Python 3 (ipykernel)",
   "language": "python",
   "name": "python3"
  },
  "language_info": {
   "codemirror_mode": {
    "name": "ipython",
    "version": 3
   },
   "file_extension": ".py",
   "mimetype": "text/x-python",
   "name": "python",
   "nbconvert_exporter": "python",
   "pygments_lexer": "ipython3",
   "version": "3.11.1"
  }
 },
 "nbformat": 4,
 "nbformat_minor": 5
}
