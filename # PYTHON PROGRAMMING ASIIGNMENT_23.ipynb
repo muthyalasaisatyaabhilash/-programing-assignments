{
 "cells": [
  {
   "cell_type": "markdown",
   "id": "2c7471d1",
   "metadata": {},
   "source": [
    "# PYTHON PROGRAMMING ASIIGNMENT_23"
   ]
  },
  {
   "cell_type": "raw",
   "id": "1033f500",
   "metadata": {},
   "source": [
    "Question 1\n",
    "Create a function that takes a number as an argument and returns True or False depending\n",
    "on whether the number is symmetrical or not. A number is symmetrical when it is the same as\n",
    "its reverse.\n",
    "Examples\n",
    "is_symmetrical(7227) ➞ True\n",
    "is_symmetrical(12567) ➞ False\n",
    "is_symmetrical(44444444) ➞ True\n",
    "is_symmetrical(9939) ➞ False\n",
    "is_symmetrical(1112111) ➞ True"
   ]
  },
  {
   "cell_type": "code",
   "execution_count": 1,
   "id": "75c3527a",
   "metadata": {},
   "outputs": [
    {
     "name": "stdout",
     "output_type": "stream",
     "text": [
      "True\n",
      "False\n",
      "True\n",
      "False\n",
      "True\n"
     ]
    }
   ],
   "source": [
    "def is_symmetrical(num):\n",
    "    num_str = str(num)\n",
    "    reverse_str = num_str[::-1] # reverse the string\n",
    "    return num_str == reverse_str\n",
    "\n",
    "# example usage\n",
    "print(is_symmetrical(7227)) # True\n",
    "print(is_symmetrical(12567)) # False\n",
    "print(is_symmetrical(44444444)) # True\n",
    "print(is_symmetrical(9939)) # False\n",
    "print(is_symmetrical(1112111)) # True\n"
   ]
  },
  {
   "cell_type": "raw",
   "id": "4623086f",
   "metadata": {},
   "source": [
    "Question 2\n",
    "Given a string of numbers separated by a comma and space, return the product of the\n",
    "numbers.\n",
    "Examples\n",
    "multiply_nums(&quot;2, 3&quot;) ➞ 6\n",
    "multiply_nums(&quot;1, 2, 3, 4&quot;) ➞ 24\n",
    "multiply_nums(&quot;54, 75, 453, 0&quot;) ➞ 0\n",
    "multiply_nums(&quot;10, -2&quot;) ➞ -20"
   ]
  },
  {
   "cell_type": "code",
   "execution_count": 2,
   "id": "dc686840",
   "metadata": {},
   "outputs": [
    {
     "name": "stdout",
     "output_type": "stream",
     "text": [
      "6\n",
      "24\n",
      "0\n",
      "-20\n"
     ]
    }
   ],
   "source": [
    "def multiply_nums(nums_str):\n",
    "    nums_list = nums_str.split(\", \")\n",
    "    product = 1\n",
    "    for num in nums_list:\n",
    "        product *= int(num)\n",
    "    return product\n",
    "\n",
    "# example usage\n",
    "print(multiply_nums(\"2, 3\")) # 6\n",
    "print(multiply_nums(\"1, 2, 3, 4\")) # 24\n",
    "print(multiply_nums(\"54, 75, 453, 0\")) # 0\n",
    "print(multiply_nums(\"10, -2\")) # -20\n"
   ]
  },
  {
   "cell_type": "raw",
   "id": "aa320ebd",
   "metadata": {},
   "source": [
    "Question 3\n",
    "Create a function that squares every digit of a number.\n",
    "Examples\n",
    "square_digits(9119) ➞ 811181\n",
    "square_digits(2483) ➞ 416649\n",
    "square_digits(3212) ➞ 9414"
   ]
  },
  {
   "cell_type": "code",
   "execution_count": 3,
   "id": "a454d92d",
   "metadata": {},
   "outputs": [
    {
     "name": "stdout",
     "output_type": "stream",
     "text": [
      "811181\n",
      "416649\n",
      "9414\n"
     ]
    }
   ],
   "source": [
    "def square_digits(num):\n",
    "    num_str = str(num)\n",
    "    new_str = \"\"\n",
    "    for digit in num_str:\n",
    "        square = int(digit) ** 2\n",
    "        new_str += str(square)\n",
    "    return int(new_str)\n",
    "\n",
    "# example usage\n",
    "print(square_digits(9119)) # 811181\n",
    "print(square_digits(2483)) # 416649\n",
    "print(square_digits(3212)) # 9414\n"
   ]
  },
  {
   "cell_type": "raw",
   "id": "9ede606a",
   "metadata": {},
   "source": [
    "Question 4\n",
    "Create a function that sorts a list and removes all duplicate items from it.\n",
    "Examples\n",
    "setify([1, 3, 3, 5, 5]) ➞ [1, 3, 5]\n",
    "setify([4, 4, 4, 4]) ➞ [4]\n",
    "setify([5, 7, 8, 9, 10, 15]) ➞ [5, 7, 8, 9, 10, 15]\n",
    "setify([3, 3, 3, 2, 1]) ➞ [1, 2, 3]"
   ]
  },
  {
   "cell_type": "code",
   "execution_count": 4,
   "id": "e1bc95e7",
   "metadata": {},
   "outputs": [
    {
     "name": "stdout",
     "output_type": "stream",
     "text": [
      "[1, 3, 5]\n",
      "[4]\n",
      "[5, 7, 8, 9, 10, 15]\n",
      "[1, 2, 3]\n"
     ]
    }
   ],
   "source": [
    "def setify(lst):\n",
    "    return sorted(list(set(lst)))\n",
    "\n",
    "# example usage\n",
    "print(setify([1, 3, 3, 5, 5])) # [1, 3, 5]\n",
    "print(setify([4, 4, 4, 4])) # [4]\n",
    "print(setify([5, 7, 8, 9, 10, 15])) # [5, 7, 8, 9, 10, 15]\n",
    "print(setify([3, 3, 3, 2, 1])) # [1, 2, 3]\n"
   ]
  },
  {
   "cell_type": "raw",
   "id": "9a7f63ef",
   "metadata": {},
   "source": [
    "Question 5\n",
    "Create a function that returns the mean of all digits.\n",
    "Examples\n",
    "mean(42) ➞ 3\n",
    "mean(12345) ➞ 3\n",
    "mean(666) ➞ 6"
   ]
  },
  {
   "cell_type": "code",
   "execution_count": 5,
   "id": "7b59cebd",
   "metadata": {},
   "outputs": [
    {
     "name": "stdout",
     "output_type": "stream",
     "text": [
      "3.0\n",
      "3.0\n",
      "6.0\n"
     ]
    }
   ],
   "source": [
    "def mean(num):\n",
    "    # convert number to string and split into digits\n",
    "    digits = [int(d) for d in str(num)]\n",
    "    \n",
    "    # calculate mean of digits\n",
    "    return sum(digits) / len(digits)\n",
    "\n",
    "# example usage\n",
    "print(mean(42)) # 3.0\n",
    "print(mean(12345)) # 3.0\n",
    "print(mean(666)) # 6.0\n"
   ]
  },
  {
   "cell_type": "code",
   "execution_count": null,
   "id": "c592e5ed",
   "metadata": {},
   "outputs": [],
   "source": []
  }
 ],
 "metadata": {
  "kernelspec": {
   "display_name": "Python 3 (ipykernel)",
   "language": "python",
   "name": "python3"
  },
  "language_info": {
   "codemirror_mode": {
    "name": "ipython",
    "version": 3
   },
   "file_extension": ".py",
   "mimetype": "text/x-python",
   "name": "python",
   "nbconvert_exporter": "python",
   "pygments_lexer": "ipython3",
   "version": "3.11.1"
  }
 },
 "nbformat": 4,
 "nbformat_minor": 5
}
